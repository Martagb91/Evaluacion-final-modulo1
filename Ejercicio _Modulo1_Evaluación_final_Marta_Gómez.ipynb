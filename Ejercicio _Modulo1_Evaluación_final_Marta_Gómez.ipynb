{
 "cells": [
  {
   "cell_type": "markdown",
   "metadata": {},
   "source": [
    "# Ejercicio Modulo 1: Evaluación final - Marta Gómez"
   ]
  },
  {
   "cell_type": "code",
   "execution_count": null,
   "metadata": {},
   "outputs": [],
   "source": [
    "class TiendaOnline: \n",
    "    def __init__(self, inventario, clientes, ventas_totales):\n",
    "        self.inventario = inventario[]\n",
    "        self.clientes = clientes{}\n",
    "        self.ventas_totales = ventas_totales{}\n",
    "\n",
    "    def productos_inventario(self):\n",
    "        productos_inventario = {}\n",
    "        for productos_inventario"
   ]
  }
 ],
 "metadata": {
  "language_info": {
   "name": "python"
  }
 },
 "nbformat": 4,
 "nbformat_minor": 2
}
