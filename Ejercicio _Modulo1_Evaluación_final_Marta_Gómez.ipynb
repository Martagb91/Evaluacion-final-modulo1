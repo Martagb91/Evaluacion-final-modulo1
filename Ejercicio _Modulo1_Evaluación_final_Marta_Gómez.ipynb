{
 "cells": [
  {
   "cell_type": "markdown",
   "metadata": {},
   "source": [
    "# Ejercicio Modulo 1: Evaluación final - Marta Gómez"
   ]
  },
  {
   "cell_type": "code",
   "execution_count": null,
   "metadata": {},
   "outputs": [],
   "source": [
    "class TiendaOnline:\n",
    "\n",
    "    #definicion de los atributos que va a tener la clase:\n",
    "\n",
    "    def __init__(self):\n",
    "        self.inventario = []  #quiero un inventario que pueda tener una lista de elementos, en este caso, los elementos serán diccionarios. [{},{}...]\n",
    "        self.clientes = {}    #quiero un diccionario de clientes donde el diccionario tenga un nombre : cliente1, cliente2... y cada cliente tenga un email(id) + una lista de compras {{'Cliente1': {'email': 'cliente1@email.com', 'compras': []}, 'Cliente2': {'email': 'cliente2@email.com', 'compras': []}}: }\n",
    "        self.ventas_totales = 0.0  #quiero un número con sus decimales, para saber el importe total ganado\n",
    "\n",
    "# GESTION DE INVENTARIO\n",
    "\n",
    "#1. \n",
    "\n",
    "    def agregar_producto(self,nombre,precio,cantidad):  #queremos agregar productos que estén compuestos por 'nombre(str), precio(int) y cantidad(int)'.\n",
    "\n",
    "        nombre = str(nombre)\n",
    "        precio = float(precio)\n",
    "        cantidad = int(cantidad)\n",
    "        \n",
    "        #necesitamos crear un diccionario donde se almacenará esa información.\n",
    "    \n",
    "\n",
    "        productos = {\"nombre\" : nombre, \"precio\" : precio, \"cantidad\" : cantidad}  # \"\"\"NO LE HE DICHO EL TIPO, PORQUE HE PROBADO str(nombre) y actúa igual\"\"\"\n",
    "\n",
    "        #ahora, necesitamos crear una función que haga las comprobaciones sobre producto y podrán pasar dos cosas:\n",
    "              \n",
    "        \"\"\"  1. SI YA EXISTE --> sumará al producto la cantidad\n",
    "            \n",
    "             2. SI NO EXISTE   --> agregará el producto\"\"\"\n",
    "        \n",
    "        for productos_inventario in self.inventario:  #para los productos en el inventario de self.inventario\n",
    "            if productos_inventario[\"nombre\"] == nombre:   #si el nombre del producto nuevo es  IGUAL al nombre de ALGUN producto que tenemos \n",
    "                productos_inventario[\"cantidad\"] += cantidad #QUE SUMAR la cantidad al producto del diccionario\n",
    "                                                \n",
    "                return f\"El producto {nombre} ha sido actualizado. La nueva cantidad es: {productos_inventario[\"cantidad\"]}.\"\n",
    "            \n",
    "            \n",
    "                 #OJO!! SI hay precios diferentes se queda con el primero... ¿COMO PUEDO HACER PARA QUE COMPRUEbe EL PRECIO; LO he MIRADO y LuegO o no lo agrega o me da error\n",
    "\n",
    "        self.inventario.append(productos) #SI NO EXISTE --> agrega el producto al diccionario y lo guarda, por eso no hace falta añadir otro return\n",
    "\n",
    "        print(f\"Producto {nombre} agregado correctamente\")\n",
    "\n",
    "\n",
    "#2.\n",
    "    \n",
    "    def ver_inventario(self):\n",
    "        \n",
    "           for productos_inventario in self.inventario: #para los productos en el inventario de \"self.inventario\"\n",
    "                print(f\"Nombre: {productos_inventario['nombre']}, Precio: {productos_inventario['precio']}, Cantidad: {productos_inventario['cantidad']}\") #muéstramelos\n",
    "\n",
    "\n",
    "#3.\n",
    "\n",
    "    def buscar_producto(self, nombre):\n",
    "         \n",
    "         for producto in self.inventario: #para los productos de mi inventario\n",
    "              if producto[\"nombre\"] == nombre:  #Si el producto que estás buscando \"nombre\" SI está dentro de los productos que tengo\n",
    "                   print(producto) #pintame el dibujo\n",
    "                   break  #y no hagas nada más\n",
    "              else: #en otro caso, es decir, si NO está \n",
    "                   print(f\"{nombre} no está en el inventario\") #muéstrame esto  ---> \"lo hace en bucle, !!!!!!!!!!!!!!no se como hacerlo una única vez. Es decir, que busque en todo y si no sale lo diga una vez\"\n",
    "                   \n",
    "\n",
    "         print(f\"Busqueda del producto {nombre} finalizada\")  #termino el bucle for con un \"print\" porque no quiero que me guarde nada ya que es una búsqueda\n",
    "\n",
    "\n",
    "#4. \n",
    "    def actualizar_stock(self,nombre,cantidad):\n",
    "         \n",
    "         for productos in self.inventario:  #para los productos de mi inventario\n",
    "            if productos[\"nombre\"] == nombre:   #si el nombre del producto nuevo es IGUAL al nombre de ALGUN producto que tenemos \n",
    "                productos[\"cantidad\"] += cantidad  #súmale esa cantidad (también puede ser negativa y restarle)\n",
    "                print(f\"Inventario actualizado:\")\n",
    "                break #y no busques más \n",
    "            else:\n",
    "                 print(f\"Este {nombre} no está en el inventario\") \n",
    "         return productos  #si está el producto se muestra ese producto actualizado, pero SINO está se muestra el último de la lista SOLUCINONAR ESTO!!!!!!!\n",
    "        \n",
    "    \n",
    "#5. \n",
    "    def eliminar_producto(self,nombre):\n",
    "         for producto in self.inventario:\n",
    "              if producto[\"nombre\"] == nombre:\n",
    "                self.inventario.pop(nombre) \n",
    "                print(f\"Producto '{nombre} eliminado del inventario\")\n",
    "              else:\n",
    "                 print(f\"Este {nombre} no está en el inventario\") \n",
    "         return self.inventario\n",
    "              \n"
   ]
  },
  {
   "cell_type": "code",
   "execution_count": 1035,
   "metadata": {},
   "outputs": [],
   "source": [
    "Tienda_alimentos = TiendaOnline()"
   ]
  },
  {
   "cell_type": "code",
   "execution_count": 1036,
   "metadata": {},
   "outputs": [],
   "source": [
    "Tienda_alimentos.ver_inventario()"
   ]
  },
  {
   "cell_type": "code",
   "execution_count": 1037,
   "metadata": {},
   "outputs": [
    {
     "name": "stdout",
     "output_type": "stream",
     "text": [
      "Producto alcachofa agregado correctamente\n"
     ]
    }
   ],
   "source": [
    "Tienda_alimentos.agregar_producto(\"alcachofa\", 3, 1)"
   ]
  },
  {
   "cell_type": "code",
   "execution_count": 1038,
   "metadata": {},
   "outputs": [
    {
     "name": "stdout",
     "output_type": "stream",
     "text": [
      "Nombre: alcachofa, Precio: 3.0, Cantidad: 1\n"
     ]
    }
   ],
   "source": [
    "Tienda_alimentos.ver_inventario()"
   ]
  },
  {
   "cell_type": "code",
   "execution_count": 1039,
   "metadata": {},
   "outputs": [
    {
     "name": "stdout",
     "output_type": "stream",
     "text": [
      "Producto garbanzos agregado correctamente\n"
     ]
    }
   ],
   "source": [
    "Tienda_alimentos.agregar_producto(\"garbanzos\", 3, 2)"
   ]
  },
  {
   "cell_type": "code",
   "execution_count": 1040,
   "metadata": {},
   "outputs": [
    {
     "name": "stdout",
     "output_type": "stream",
     "text": [
      "Nombre: alcachofa, Precio: 3.0, Cantidad: 1\n",
      "Nombre: garbanzos, Precio: 3.0, Cantidad: 2\n"
     ]
    }
   ],
   "source": [
    "Tienda_alimentos.ver_inventario()"
   ]
  },
  {
   "cell_type": "code",
   "execution_count": 1041,
   "metadata": {},
   "outputs": [
    {
     "name": "stdout",
     "output_type": "stream",
     "text": [
      "Producto lentejas agregado correctamente\n"
     ]
    }
   ],
   "source": [
    "Tienda_alimentos.agregar_producto(\"lentejas\", 3, 2)"
   ]
  },
  {
   "cell_type": "code",
   "execution_count": 1042,
   "metadata": {},
   "outputs": [
    {
     "name": "stdout",
     "output_type": "stream",
     "text": [
      "Nombre: alcachofa, Precio: 3.0, Cantidad: 1\n",
      "Nombre: garbanzos, Precio: 3.0, Cantidad: 2\n",
      "Nombre: lentejas, Precio: 3.0, Cantidad: 2\n"
     ]
    }
   ],
   "source": [
    "Tienda_alimentos.ver_inventario()"
   ]
  },
  {
   "cell_type": "code",
   "execution_count": 1043,
   "metadata": {},
   "outputs": [
    {
     "data": {
      "text/plain": [
       "'El producto lentejas ha sido actualizado. La nueva cantidad es: 4.'"
      ]
     },
     "execution_count": 1043,
     "metadata": {},
     "output_type": "execute_result"
    }
   ],
   "source": [
    "Tienda_alimentos.agregar_producto(\"lentejas\", 2, 2)"
   ]
  },
  {
   "cell_type": "code",
   "execution_count": 1044,
   "metadata": {},
   "outputs": [
    {
     "name": "stdout",
     "output_type": "stream",
     "text": [
      "Nombre: alcachofa, Precio: 3.0, Cantidad: 1\n",
      "Nombre: garbanzos, Precio: 3.0, Cantidad: 2\n",
      "Nombre: lentejas, Precio: 3.0, Cantidad: 4\n"
     ]
    }
   ],
   "source": [
    "Tienda_alimentos.ver_inventario()"
   ]
  },
  {
   "cell_type": "code",
   "execution_count": 1045,
   "metadata": {},
   "outputs": [
    {
     "name": "stdout",
     "output_type": "stream",
     "text": [
      "{'nombre': 'alcachofa', 'precio': 3.0, 'cantidad': 1}\n",
      "Busqueda del producto alcachofa finalizada\n"
     ]
    }
   ],
   "source": [
    "Tienda_alimentos.buscar_producto(\"alcachofa\")"
   ]
  },
  {
   "cell_type": "code",
   "execution_count": 1046,
   "metadata": {},
   "outputs": [
    {
     "name": "stdout",
     "output_type": "stream",
     "text": [
      "ciruelas no está en el inventario\n",
      "ciruelas no está en el inventario\n",
      "ciruelas no está en el inventario\n",
      "Busqueda del producto ciruelas finalizada\n"
     ]
    }
   ],
   "source": [
    "Tienda_alimentos.buscar_producto(\"ciruelas\")"
   ]
  },
  {
   "cell_type": "code",
   "execution_count": 1047,
   "metadata": {},
   "outputs": [
    {
     "name": "stdout",
     "output_type": "stream",
     "text": [
      "Producto 2 agregado correctamente\n"
     ]
    }
   ],
   "source": [
    "Tienda_alimentos.agregar_producto(2,2,2)"
   ]
  },
  {
   "cell_type": "code",
   "execution_count": 1048,
   "metadata": {},
   "outputs": [
    {
     "name": "stdout",
     "output_type": "stream",
     "text": [
      "Nombre: alcachofa, Precio: 3.0, Cantidad: 1\n",
      "Nombre: garbanzos, Precio: 3.0, Cantidad: 2\n",
      "Nombre: lentejas, Precio: 3.0, Cantidad: 4\n",
      "Nombre: 2, Precio: 2.0, Cantidad: 2\n"
     ]
    }
   ],
   "source": [
    "Tienda_alimentos.ver_inventario()"
   ]
  },
  {
   "cell_type": "code",
   "execution_count": 1049,
   "metadata": {},
   "outputs": [
    {
     "name": "stdout",
     "output_type": "stream",
     "text": [
      "Inventario actualizado:\n"
     ]
    },
    {
     "data": {
      "text/plain": [
       "{'nombre': 'alcachofa', 'precio': 3.0, 'cantidad': -2}"
      ]
     },
     "execution_count": 1049,
     "metadata": {},
     "output_type": "execute_result"
    }
   ],
   "source": [
    "Tienda_alimentos.actualizar_stock(\"alcachofa\", -3)"
   ]
  },
  {
   "cell_type": "code",
   "execution_count": 1050,
   "metadata": {},
   "outputs": [
    {
     "name": "stdout",
     "output_type": "stream",
     "text": [
      "Este patatas no está en el inventario\n",
      "Este patatas no está en el inventario\n",
      "Este patatas no está en el inventario\n",
      "Este patatas no está en el inventario\n"
     ]
    },
    {
     "data": {
      "text/plain": [
       "{'nombre': '2', 'precio': 2.0, 'cantidad': 2}"
      ]
     },
     "execution_count": 1050,
     "metadata": {},
     "output_type": "execute_result"
    }
   ],
   "source": [
    "Tienda_alimentos.actualizar_stock(\"patatas\", -3)"
   ]
  },
  {
   "cell_type": "code",
   "execution_count": 1051,
   "metadata": {},
   "outputs": [
    {
     "name": "stdout",
     "output_type": "stream",
     "text": [
      "Nombre: alcachofa, Precio: 3.0, Cantidad: -2\n",
      "Nombre: garbanzos, Precio: 3.0, Cantidad: 2\n",
      "Nombre: lentejas, Precio: 3.0, Cantidad: 4\n",
      "Nombre: 2, Precio: 2.0, Cantidad: 2\n"
     ]
    }
   ],
   "source": [
    "Tienda_alimentos.ver_inventario()"
   ]
  },
  {
   "cell_type": "code",
   "execution_count": 1052,
   "metadata": {},
   "outputs": [
    {
     "name": "stdout",
     "output_type": "stream",
     "text": [
      "Producto canelones agregado correctamente\n"
     ]
    }
   ],
   "source": [
    "Tienda_alimentos.agregar_producto(\"canelones\", 2, 10)"
   ]
  },
  {
   "cell_type": "code",
   "execution_count": 1053,
   "metadata": {},
   "outputs": [
    {
     "data": {
      "text/plain": [
       "[{'nombre': 'alcachofa', 'precio': 3.0, 'cantidad': -2},\n",
       " {'nombre': 'garbanzos', 'precio': 3.0, 'cantidad': 2},\n",
       " {'nombre': 'lentejas', 'precio': 3.0, 'cantidad': 4},\n",
       " {'nombre': '2', 'precio': 2.0, 'cantidad': 2},\n",
       " {'nombre': 'canelones', 'precio': 2.0, 'cantidad': 10}]"
      ]
     },
     "execution_count": 1053,
     "metadata": {},
     "output_type": "execute_result"
    }
   ],
   "source": [
    "Tienda_alimentos.inventario"
   ]
  },
  {
   "cell_type": "code",
   "execution_count": 1054,
   "metadata": {},
   "outputs": [
    {
     "name": "stdout",
     "output_type": "stream",
     "text": [
      "Este 2 no está en el inventario\n",
      "Este 2 no está en el inventario\n",
      "Este 2 no está en el inventario\n",
      "Este 2 no está en el inventario\n",
      "Este 2 no está en el inventario\n"
     ]
    },
    {
     "data": {
      "text/plain": [
       "[{'nombre': 'alcachofa', 'precio': 3.0, 'cantidad': -2},\n",
       " {'nombre': 'garbanzos', 'precio': 3.0, 'cantidad': 2},\n",
       " {'nombre': 'lentejas', 'precio': 3.0, 'cantidad': 4},\n",
       " {'nombre': '2', 'precio': 2.0, 'cantidad': 2},\n",
       " {'nombre': 'canelones', 'precio': 2.0, 'cantidad': 10}]"
      ]
     },
     "execution_count": 1054,
     "metadata": {},
     "output_type": "execute_result"
    }
   ],
   "source": [
    "Tienda_alimentos.eliminar_producto(2)"
   ]
  },
  {
   "cell_type": "code",
   "execution_count": 1055,
   "metadata": {},
   "outputs": [
    {
     "name": "stdout",
     "output_type": "stream",
     "text": [
      "Este canelones no está en el inventario\n",
      "Este canelones no está en el inventario\n",
      "Este canelones no está en el inventario\n",
      "Este canelones no está en el inventario\n"
     ]
    },
    {
     "ename": "TypeError",
     "evalue": "'str' object cannot be interpreted as an integer",
     "output_type": "error",
     "traceback": [
      "\u001b[1;31m---------------------------------------------------------------------------\u001b[0m",
      "\u001b[1;31mTypeError\u001b[0m                                 Traceback (most recent call last)",
      "Cell \u001b[1;32mIn[1055], line 1\u001b[0m\n\u001b[1;32m----> 1\u001b[0m Tienda_alimentos\u001b[38;5;241m.\u001b[39meliminar_producto(\u001b[38;5;124m\"\u001b[39m\u001b[38;5;124mcanelones\u001b[39m\u001b[38;5;124m\"\u001b[39m)\n",
      "Cell \u001b[1;32mIn[1034], line 85\u001b[0m, in \u001b[0;36mTiendaOnline.eliminar_producto\u001b[1;34m(self, nombre)\u001b[0m\n\u001b[0;32m     83\u001b[0m \u001b[38;5;28;01mfor\u001b[39;00m producto \u001b[38;5;129;01min\u001b[39;00m \u001b[38;5;28mself\u001b[39m\u001b[38;5;241m.\u001b[39minventario:\n\u001b[0;32m     84\u001b[0m      \u001b[38;5;28;01mif\u001b[39;00m producto[\u001b[38;5;124m\"\u001b[39m\u001b[38;5;124mnombre\u001b[39m\u001b[38;5;124m\"\u001b[39m] \u001b[38;5;241m==\u001b[39m nombre:\n\u001b[1;32m---> 85\u001b[0m        \u001b[38;5;28mself\u001b[39m\u001b[38;5;241m.\u001b[39minventario\u001b[38;5;241m.\u001b[39mpop(\u001b[38;5;124m\"\u001b[39m\u001b[38;5;124mnombre\u001b[39m\u001b[38;5;124m\"\u001b[39m) \n\u001b[0;32m     86\u001b[0m        \u001b[38;5;28mprint\u001b[39m(\u001b[38;5;124mf\u001b[39m\u001b[38;5;124m\"\u001b[39m\u001b[38;5;124mProducto \u001b[39m\u001b[38;5;124m'\u001b[39m\u001b[38;5;132;01m{\u001b[39;00mnombre\u001b[38;5;132;01m}\u001b[39;00m\u001b[38;5;124m eliminado del inventario\u001b[39m\u001b[38;5;124m\"\u001b[39m)\n\u001b[0;32m     87\u001b[0m      \u001b[38;5;28;01melse\u001b[39;00m:\n",
      "\u001b[1;31mTypeError\u001b[0m: 'str' object cannot be interpreted as an integer"
     ]
    }
   ],
   "source": [
    "Tienda_alimentos.eliminar_producto(\"canelones\")"
   ]
  },
  {
   "cell_type": "code",
   "execution_count": null,
   "metadata": {},
   "outputs": [
    {
     "data": {
      "text/plain": [
       "{}"
      ]
     },
     "execution_count": 982,
     "metadata": {},
     "output_type": "execute_result"
    }
   ],
   "source": [
    "Tienda_alimentos.clientes  ## todavía no se ha añadido nada en clientes"
   ]
  },
  {
   "cell_type": "code",
   "execution_count": null,
   "metadata": {},
   "outputs": [],
   "source": []
  }
 ],
 "metadata": {
  "kernelspec": {
   "display_name": "base",
   "language": "python",
   "name": "python3"
  },
  "language_info": {
   "codemirror_mode": {
    "name": "ipython",
    "version": 3
   },
   "file_extension": ".py",
   "mimetype": "text/x-python",
   "name": "python",
   "nbconvert_exporter": "python",
   "pygments_lexer": "ipython3",
   "version": "3.12.7"
  }
 },
 "nbformat": 4,
 "nbformat_minor": 2
}
