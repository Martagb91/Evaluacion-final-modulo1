{
 "cells": [
  {
   "cell_type": "markdown",
   "metadata": {},
   "source": [
    "# Ejercicio Modulo 1: Evaluación final - Marta Gómez"
   ]
  },
  {
   "cell_type": "code",
   "execution_count": null,
   "metadata": {},
   "outputs": [],
   "source": [
    "class TiendaOnline:\n",
    "\n",
    "    #definicion de los atributos que va a tener la clase:\n",
    "\n",
    "    def __init__(self):\n",
    "        self.inventario = []  #quiero un inventario que pueda tener una lista de elementos, en este caso, los elementos serán diccionarios. [{},{}...]\n",
    "        self.clientes = {}    #quiero un diccionario de clientes donde el diccionario tenga un nombre : cliente1, cliente2... y cada cliente tenga un email(id) + una lista de compras {{'Cliente1': {'email': 'cliente1@email.com', 'compras': []}, 'Cliente2': {'email': 'cliente2@email.com', 'compras': []}}: }\n",
    "        self.ventas_totales = 0.0  #quiero un número con sus decimales, para saber el importe total ganado\n",
    "\n",
    "#1. \n",
    "\n",
    "    def agregar_producto(self,nombre,precio,cantidad):  #queremos agregar productos que estén compuestos por 'nombre, precio y cantidad'.\n",
    "        \n",
    "        #necesitamos crear un diccionario donde se almacenará esa información.\n",
    "    \n",
    "\n",
    "        producto = {\"nombre\" : nombre, \"precio\" : precio, \"cantidad\" : cantidad} \n",
    "\n",
    "        #ahora, necesitamos crear una función que haga las comprobaciones sobre producto y podrán pasar dos cosas:\n",
    "              \n",
    "        \"\"\"  1. SI YA EXISTE --> sumará al producto la cantidad\n",
    "            \n",
    "             2. SI NO EXISTE   --> agregará el producto\"\"\"\n",
    "        \n",
    "        for i in self.inventario:  #para los productos en el inventario 'self.inventario\n",
    "            if i[\"nombre\"] == nombre:   #si el nombre del producto nuevo es  IGUAL al nombre de ALGUN producto que tenemos \n",
    "                i[\"cantidad\"] += cantidad #QUE SUMAR la cantidad al producto del diccionario\n",
    "                                                \n",
    "                return print(f\"El producto {nombre} ha sido actualizado. La nueva cantidad es: {i[\"cantidad\"]}.\")\n",
    "            \n",
    "            \n",
    "                 #OJO!! SI hay precios diferentes se queda con el primero... \n",
    "\n",
    "        self.inventario.append(producto) #SI NO EXISTE --> agrega el producto al diccionario\n",
    "\n",
    "        print(f\"Producto {nombre} agregado correctamente\")\n",
    "\n",
    "\n",
    "#2.\n",
    "    \n",
    "    def ver_inventario(self):\n",
    "        \n",
    "           for i in self.inventario:\n",
    "                print(f\"Nombre: {i['nombre']}, Precio: {i['precio']}, Cantidad: {i['cantidad']}\")\n",
    "\n",
    "\n",
    "#3.\n",
    "\n",
    "    def buscar_producto\n",
    "    \n"
   ]
  },
  {
   "cell_type": "code",
   "execution_count": 342,
   "metadata": {},
   "outputs": [],
   "source": [
    "Tienda_alimentos = TiendaOnline()"
   ]
  },
  {
   "cell_type": "code",
   "execution_count": 343,
   "metadata": {},
   "outputs": [],
   "source": [
    "Tienda_alimentos.ver_inventario()"
   ]
  },
  {
   "cell_type": "code",
   "execution_count": 344,
   "metadata": {},
   "outputs": [
    {
     "name": "stdout",
     "output_type": "stream",
     "text": [
      "Producto alcachofa agregado correctamente\n"
     ]
    }
   ],
   "source": [
    "Tienda_alimentos.agregar_producto(\"alcachofa\", 3, 1)"
   ]
  },
  {
   "cell_type": "code",
   "execution_count": 345,
   "metadata": {},
   "outputs": [
    {
     "name": "stdout",
     "output_type": "stream",
     "text": [
      "Nombre: alcachofa, Precio: 3, Cantidad: 1\n"
     ]
    }
   ],
   "source": [
    "Tienda_alimentos.ver_inventario()"
   ]
  },
  {
   "cell_type": "code",
   "execution_count": 346,
   "metadata": {},
   "outputs": [
    {
     "name": "stdout",
     "output_type": "stream",
     "text": [
      "Producto garbanzos agregado correctamente\n"
     ]
    }
   ],
   "source": [
    "Tienda_alimentos.agregar_producto(\"garbanzos\", 3, 2)"
   ]
  },
  {
   "cell_type": "code",
   "execution_count": 347,
   "metadata": {},
   "outputs": [
    {
     "name": "stdout",
     "output_type": "stream",
     "text": [
      "Nombre: alcachofa, Precio: 3, Cantidad: 1\n",
      "Nombre: garbanzos, Precio: 3, Cantidad: 2\n"
     ]
    }
   ],
   "source": [
    "Tienda_alimentos.ver_inventario()"
   ]
  },
  {
   "cell_type": "code",
   "execution_count": 348,
   "metadata": {},
   "outputs": [
    {
     "name": "stdout",
     "output_type": "stream",
     "text": [
      "Producto lentejas agregado correctamente\n"
     ]
    }
   ],
   "source": [
    "Tienda_alimentos.agregar_producto(\"lentejas\", 3, 2)"
   ]
  },
  {
   "cell_type": "code",
   "execution_count": 349,
   "metadata": {},
   "outputs": [
    {
     "name": "stdout",
     "output_type": "stream",
     "text": [
      "Nombre: alcachofa, Precio: 3, Cantidad: 1\n",
      "Nombre: garbanzos, Precio: 3, Cantidad: 2\n",
      "Nombre: lentejas, Precio: 3, Cantidad: 2\n"
     ]
    }
   ],
   "source": [
    "Tienda_alimentos.ver_inventario()"
   ]
  },
  {
   "cell_type": "code",
   "execution_count": 350,
   "metadata": {},
   "outputs": [
    {
     "name": "stdout",
     "output_type": "stream",
     "text": [
      "El producto lentejas ha sido actualizado. La nueva cantidad es: 4.\n"
     ]
    }
   ],
   "source": [
    "Tienda_alimentos.agregar_producto(\"lentejas\", 2, 2)"
   ]
  },
  {
   "cell_type": "code",
   "execution_count": 351,
   "metadata": {},
   "outputs": [
    {
     "name": "stdout",
     "output_type": "stream",
     "text": [
      "Nombre: alcachofa, Precio: 3, Cantidad: 1\n",
      "Nombre: garbanzos, Precio: 3, Cantidad: 2\n",
      "Nombre: lentejas, Precio: 3, Cantidad: 4\n"
     ]
    }
   ],
   "source": [
    "Tienda_alimentos.ver_inventario()"
   ]
  },
  {
   "cell_type": "code",
   "execution_count": null,
   "metadata": {},
   "outputs": [],
   "source": []
  }
 ],
 "metadata": {
  "kernelspec": {
   "display_name": "base",
   "language": "python",
   "name": "python3"
  },
  "language_info": {
   "codemirror_mode": {
    "name": "ipython",
    "version": 3
   },
   "file_extension": ".py",
   "mimetype": "text/x-python",
   "name": "python",
   "nbconvert_exporter": "python",
   "pygments_lexer": "ipython3",
   "version": "3.12.7"
  }
 },
 "nbformat": 4,
 "nbformat_minor": 2
}
