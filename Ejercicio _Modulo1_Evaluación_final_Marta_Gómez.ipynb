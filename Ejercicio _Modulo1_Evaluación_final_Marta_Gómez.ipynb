{
 "cells": [
  {
   "cell_type": "markdown",
   "metadata": {},
   "source": [
    "# Ejercicio Modulo 1: Evaluación final - Marta Gómez"
   ]
  },
  {
   "cell_type": "code",
   "execution_count": null,
   "metadata": {},
   "outputs": [],
   "source": [
    "class TiendaOnline:\n",
    "\n",
    "    #definicion de los atributos que va a tener la clase:\n",
    "\n",
    "    def __init__(self):\n",
    "        self.inventario = []  #quiero un inventario que pueda tener una lista de elementos, en este caso, los elementos serán diccionarios. [{},{}...]\n",
    "        self.clientes = {}    #quiero un diccionario de clientes donde el diccionario tenga un nombre : cliente1, cliente2... y cada cliente tenga un email(id) + una lista de compras {{'Cliente1': {'email': 'cliente1@email.com', 'compras': []}, 'Cliente2': {'email': 'cliente2@email.com', 'compras': []}}: }\n",
    "        self.ventas_totales = 0.0  #quiero un número con sus decimales, para saber el importe total ganado\n",
    "\n",
    "# GESTION DE INVENTARIO\n",
    "\n",
    "#1. \n",
    "\n",
    "    def agregar_producto(self,nombre,precio,cantidad):  #queremos agregar productos que estén compuestos por 'nombre(str), precio(int) y cantidad(int)'.\n",
    "\n",
    "        nombre = str(nombre)\n",
    "        precio = float(precio)\n",
    "        cantidad = int(cantidad)\n",
    "\n",
    "        \n",
    "        #necesitamos crear un diccionario donde se almacenará esa información.\n",
    "    \n",
    "\n",
    "        productos = {\"nombre\" : nombre, \"precio\" : precio, \"cantidad\" : cantidad}  # \"\"\"NO LE HE DICHO EL TIPO, PORQUE HE PROBADO str(nombre) y actúa igual\"\"\"\n",
    "\n",
    "        #ahora, necesitamos crear una función que haga las comprobaciones sobre producto y podrán pasar dos cosas:\n",
    "              \n",
    "        \"\"\"  1. SI YA EXISTE --> sumará al producto la cantidad\n",
    "            \n",
    "             2. SI NO EXISTE   --> agregará el producto\"\"\"\n",
    "        \n",
    "        for productos_inventario in self.inventario:  #para los productos en el inventario de self.inventario\n",
    "            if productos_inventario[\"nombre\"] == nombre:   #si el nombre del producto nuevo es  IGUAL al nombre de ALGUN producto que tenemos \n",
    "                productos_inventario[\"cantidad\"] += cantidad #QUE SUMAR la cantidad al producto del diccionario\n",
    "                                                \n",
    "                return f\"El producto {nombre} ha sido actualizado. La nueva cantidad es: {productos_inventario[\"cantidad\"]}.\"\n",
    "            \n",
    "            \n",
    "                 #OJO!! SI hay precios diferentes se queda con el primero... ¿COMO PUEDO HACER PARA QUE COMPRUEbe EL PRECIO; LO he MIRADO y LuegO o no lo agrega o me da error\n",
    "\n",
    "        self.inventario.append(productos) #SI NO EXISTE --> agrega el producto al diccionario y lo guarda, por eso no hace falta añadir otro return\n",
    "\n",
    "        print(f\"Producto {nombre} agregado correctamente\")\n",
    "\n",
    "\n",
    "#2.\n",
    "    \n",
    "    def ver_inventario(self):\n",
    "        \n",
    "           for productos_inventario in self.inventario: #para los productos en el inventario de \"self.inventario\"\n",
    "                print(f\"Nombre: {productos_inventario['nombre']}, Precio: {productos_inventario['precio']}, Cantidad: {productos_inventario['cantidad']}\") #muéstramelos, no se necesita return\n",
    "\n",
    "\n",
    "#3.\n",
    "\n",
    "    def buscar_producto(self, nombre):\n",
    "         \n",
    "         for producto in self.inventario: #para los productos de mi inventario\n",
    "              if producto[\"nombre\"] == nombre:  #Si el producto que estás buscando \"nombre\" SI está dentro de los productos que tengo\n",
    "                   print(producto) #pintame el dibujo\n",
    "                   return  #y no hagas nada más en el bucle y GUARDAMELO\n",
    "           \n",
    "         print(f\"{nombre} no está en el inventario\") #SI NO SE CUMPLE LA CONDICION DEL \"IF\" te hará esto\n",
    "                                                     \n",
    "\n",
    "\n",
    "\n",
    "\n",
    "#4. \n",
    "    def actualizar_stock(self,nombre,cantidad):\n",
    "         \n",
    "         for productos in self.inventario:  #para los productos de mi inventario\n",
    "            if productos[\"nombre\"] == nombre:   #si el nombre del producto nuevo es IGUAL al nombre de ALGUN producto que tenemos\n",
    "                print(f\"Tenías {productos[\"cantidad\"]} de {productos[\"nombre\"]}\") \n",
    "                productos[\"cantidad\"] += cantidad  #súmale esa cantidad (también puede ser negativa y restarle)\n",
    "                return f\"Ahora tienes {productos[\"cantidad\"]}\" #devuelveme el producto actualizado con la cantidad y GUARDAMELO\n",
    "            \n",
    "         print(f\"Este producto '{nombre}' no está en el inventario\") #SI NO SE CUMPLE LA CONDICION DEL \"IF\" te hará esto\n",
    "                                                                     \n",
    "        \n",
    "    \n",
    "#5. \n",
    "    def eliminar_producto(self,nombre):  #cada producto es una lista, por tanto, tengo que eliminar un elemento de la lista, que en este caso es un diccionario\n",
    "         for producto in self.inventario:\n",
    "              if producto[\"nombre\"] == nombre:\n",
    "                self.inventario.remove(producto) \n",
    "                print(f\"El producto '{nombre} eliminado del inventario\")\n",
    "                print(f\"Ahora tienes estos {len(self.inventario)} productos: {producto[\"nombre\"]}\")\n",
    "                 #cuente los productos que hay en la lista. Cuenta los diferentes diccionarios 1dicc = 1 prod\n",
    "                 #¿cómo hago para que me liste todos los nombres?\n",
    "                return   #termino bucle\n",
    "                \n",
    "              \n",
    "         print(f\"Este {nombre} no está en el inventario\") #si no se cumple >> informo al ususario que no está\n",
    "              \n",
    "  \n",
    "#6.\n",
    "    def calcular_valor_inventario(self):\n",
    "\n",
    "        valor_total_inventario = 0 \n",
    "        \n",
    "          #queremos el valor total del inventario\n",
    "          # inventario = producto1 + producto2\n",
    "          # valor_producto = producto[\"precio\"] * producto[\"cantidad\"]\n",
    "          # valor_total_inventario = sum(valor_producto) >> como vamos a hacer un bucle le tenemos que decir que el producto que vaya encontrando lo sume\n",
    "\n",
    "        for  producto in self.inventario:\n",
    "\n",
    "            valor_producto = 0\n",
    "            \n",
    "            valor_producto += producto[\"precio\"] * producto[\"cantidad\"]\n",
    "\n",
    "            valor_total_inventario += valor_producto\n",
    "             \n",
    "        return f\"El valor total del inventario son {valor_total_inventario}€\" \n",
    "        \n",
    "        \n",
    "\n",
    "\n"
   ]
  },
  {
   "cell_type": "code",
   "execution_count": 1421,
   "metadata": {},
   "outputs": [],
   "source": [
    "Tienda_alimentos = TiendaOnline()"
   ]
  },
  {
   "cell_type": "code",
   "execution_count": 1422,
   "metadata": {},
   "outputs": [],
   "source": [
    "Tienda_alimentos.ver_inventario()"
   ]
  },
  {
   "cell_type": "code",
   "execution_count": 1423,
   "metadata": {},
   "outputs": [
    {
     "name": "stdout",
     "output_type": "stream",
     "text": [
      "Producto pera agregado correctamente\n"
     ]
    }
   ],
   "source": [
    "Tienda_alimentos.agregar_producto(\"pera\", 1.50, 4)"
   ]
  },
  {
   "cell_type": "code",
   "execution_count": 1424,
   "metadata": {},
   "outputs": [
    {
     "name": "stdout",
     "output_type": "stream",
     "text": [
      "Nombre: pera, Precio: 1.5, Cantidad: 4\n"
     ]
    }
   ],
   "source": [
    "Tienda_alimentos.ver_inventario()"
   ]
  },
  {
   "cell_type": "code",
   "execution_count": 1425,
   "metadata": {},
   "outputs": [
    {
     "name": "stdout",
     "output_type": "stream",
     "text": [
      "Producto garbanzos agregado correctamente\n"
     ]
    }
   ],
   "source": [
    "Tienda_alimentos.agregar_producto(\"garbanzos\", 3, 2)"
   ]
  },
  {
   "cell_type": "code",
   "execution_count": 1426,
   "metadata": {},
   "outputs": [
    {
     "name": "stdout",
     "output_type": "stream",
     "text": [
      "Nombre: pera, Precio: 1.5, Cantidad: 4\n",
      "Nombre: garbanzos, Precio: 3.0, Cantidad: 2\n"
     ]
    }
   ],
   "source": [
    "Tienda_alimentos.ver_inventario()"
   ]
  },
  {
   "cell_type": "code",
   "execution_count": 1427,
   "metadata": {},
   "outputs": [
    {
     "name": "stdout",
     "output_type": "stream",
     "text": [
      "Producto lentejas agregado correctamente\n"
     ]
    }
   ],
   "source": [
    "Tienda_alimentos.agregar_producto(\"lentejas\", 3, 2)"
   ]
  },
  {
   "cell_type": "code",
   "execution_count": 1428,
   "metadata": {},
   "outputs": [
    {
     "name": "stdout",
     "output_type": "stream",
     "text": [
      "Nombre: pera, Precio: 1.5, Cantidad: 4\n",
      "Nombre: garbanzos, Precio: 3.0, Cantidad: 2\n",
      "Nombre: lentejas, Precio: 3.0, Cantidad: 2\n"
     ]
    }
   ],
   "source": [
    "Tienda_alimentos.ver_inventario()"
   ]
  },
  {
   "cell_type": "code",
   "execution_count": 1429,
   "metadata": {},
   "outputs": [
    {
     "data": {
      "text/plain": [
       "'El producto lentejas ha sido actualizado. La nueva cantidad es: 4.'"
      ]
     },
     "execution_count": 1429,
     "metadata": {},
     "output_type": "execute_result"
    }
   ],
   "source": [
    "Tienda_alimentos.agregar_producto(\"lentejas\", 2, 2) ##precios diferentes me gustaría hacer un precio medio "
   ]
  },
  {
   "cell_type": "code",
   "execution_count": 1430,
   "metadata": {},
   "outputs": [
    {
     "name": "stdout",
     "output_type": "stream",
     "text": [
      "Nombre: pera, Precio: 1.5, Cantidad: 4\n",
      "Nombre: garbanzos, Precio: 3.0, Cantidad: 2\n",
      "Nombre: lentejas, Precio: 3.0, Cantidad: 4\n"
     ]
    }
   ],
   "source": [
    "Tienda_alimentos.ver_inventario()"
   ]
  },
  {
   "cell_type": "code",
   "execution_count": 1431,
   "metadata": {},
   "outputs": [
    {
     "name": "stdout",
     "output_type": "stream",
     "text": [
      "{'nombre': 'lentejas', 'precio': 3.0, 'cantidad': 4}\n"
     ]
    }
   ],
   "source": [
    "Tienda_alimentos.buscar_producto(\"lentejas\")"
   ]
  },
  {
   "cell_type": "code",
   "execution_count": 1432,
   "metadata": {},
   "outputs": [
    {
     "name": "stdout",
     "output_type": "stream",
     "text": [
      "ciruelas no está en el inventario\n"
     ]
    }
   ],
   "source": [
    "Tienda_alimentos.buscar_producto(\"ciruelas\")"
   ]
  },
  {
   "cell_type": "code",
   "execution_count": 1433,
   "metadata": {},
   "outputs": [
    {
     "name": "stdout",
     "output_type": "stream",
     "text": [
      "Nombre: pera, Precio: 1.5, Cantidad: 4\n",
      "Nombre: garbanzos, Precio: 3.0, Cantidad: 2\n",
      "Nombre: lentejas, Precio: 3.0, Cantidad: 4\n"
     ]
    }
   ],
   "source": [
    "Tienda_alimentos.ver_inventario()"
   ]
  },
  {
   "cell_type": "code",
   "execution_count": 1434,
   "metadata": {},
   "outputs": [
    {
     "name": "stdout",
     "output_type": "stream",
     "text": [
      "Este producto 'alcachofa' no está en el inventario\n"
     ]
    }
   ],
   "source": [
    "Tienda_alimentos.actualizar_stock(\"alcachofa\", -3)\n"
   ]
  },
  {
   "cell_type": "code",
   "execution_count": 1435,
   "metadata": {},
   "outputs": [
    {
     "name": "stdout",
     "output_type": "stream",
     "text": [
      "Este producto 'patatas' no está en el inventario\n"
     ]
    }
   ],
   "source": [
    "Tienda_alimentos.actualizar_stock(\"patatas\", -3)"
   ]
  },
  {
   "cell_type": "code",
   "execution_count": 1436,
   "metadata": {},
   "outputs": [
    {
     "name": "stdout",
     "output_type": "stream",
     "text": [
      "Nombre: pera, Precio: 1.5, Cantidad: 4\n",
      "Nombre: garbanzos, Precio: 3.0, Cantidad: 2\n",
      "Nombre: lentejas, Precio: 3.0, Cantidad: 4\n"
     ]
    }
   ],
   "source": [
    "Tienda_alimentos.ver_inventario()"
   ]
  },
  {
   "cell_type": "code",
   "execution_count": 1437,
   "metadata": {},
   "outputs": [
    {
     "name": "stdout",
     "output_type": "stream",
     "text": [
      "Producto canelones agregado correctamente\n"
     ]
    }
   ],
   "source": [
    "Tienda_alimentos.agregar_producto(\"canelones\", 2, 10)"
   ]
  },
  {
   "cell_type": "code",
   "execution_count": 1438,
   "metadata": {},
   "outputs": [
    {
     "data": {
      "text/plain": [
       "[{'nombre': 'pera', 'precio': 1.5, 'cantidad': 4},\n",
       " {'nombre': 'garbanzos', 'precio': 3.0, 'cantidad': 2},\n",
       " {'nombre': 'lentejas', 'precio': 3.0, 'cantidad': 4},\n",
       " {'nombre': 'canelones', 'precio': 2.0, 'cantidad': 10}]"
      ]
     },
     "execution_count": 1438,
     "metadata": {},
     "output_type": "execute_result"
    }
   ],
   "source": [
    "Tienda_alimentos.inventario"
   ]
  },
  {
   "cell_type": "code",
   "execution_count": 1439,
   "metadata": {},
   "outputs": [
    {
     "name": "stdout",
     "output_type": "stream",
     "text": [
      "El producto 'canelones eliminado del inventario\n",
      "Ahora tienes estos 3 productos: canelones\n"
     ]
    }
   ],
   "source": [
    "Tienda_alimentos.eliminar_producto(\"canelones\")"
   ]
  },
  {
   "cell_type": "code",
   "execution_count": 1440,
   "metadata": {},
   "outputs": [
    {
     "data": {
      "text/plain": [
       "[{'nombre': 'pera', 'precio': 1.5, 'cantidad': 4},\n",
       " {'nombre': 'garbanzos', 'precio': 3.0, 'cantidad': 2},\n",
       " {'nombre': 'lentejas', 'precio': 3.0, 'cantidad': 4}]"
      ]
     },
     "execution_count": 1440,
     "metadata": {},
     "output_type": "execute_result"
    }
   ],
   "source": [
    "Tienda_alimentos.inventario"
   ]
  },
  {
   "cell_type": "code",
   "execution_count": 1441,
   "metadata": {},
   "outputs": [
    {
     "data": {
      "text/plain": [
       "'El valor total del inventario son 24.0€'"
      ]
     },
     "execution_count": 1441,
     "metadata": {},
     "output_type": "execute_result"
    }
   ],
   "source": [
    "Tienda_alimentos.calcular_valor_inventario()"
   ]
  },
  {
   "cell_type": "code",
   "execution_count": 1442,
   "metadata": {},
   "outputs": [
    {
     "data": {
      "text/plain": [
       "[{'nombre': 'pera', 'precio': 1.5, 'cantidad': 4},\n",
       " {'nombre': 'garbanzos', 'precio': 3.0, 'cantidad': 2},\n",
       " {'nombre': 'lentejas', 'precio': 3.0, 'cantidad': 4}]"
      ]
     },
     "execution_count": 1442,
     "metadata": {},
     "output_type": "execute_result"
    }
   ],
   "source": [
    "Tienda_alimentos.inventario"
   ]
  },
  {
   "cell_type": "code",
   "execution_count": 1443,
   "metadata": {},
   "outputs": [
    {
     "data": {
      "text/plain": [
       "{}"
      ]
     },
     "execution_count": 1443,
     "metadata": {},
     "output_type": "execute_result"
    }
   ],
   "source": [
    "Tienda_alimentos.clientes  ## todavía no se ha añadido nada en clientes"
   ]
  },
  {
   "cell_type": "code",
   "execution_count": 1444,
   "metadata": {},
   "outputs": [
    {
     "name": "stdout",
     "output_type": "stream",
     "text": [
      "Producto alcachofa agregado correctamente\n"
     ]
    }
   ],
   "source": [
    "Tienda_alimentos.agregar_producto(\"alcachofa\", 1, 8)"
   ]
  },
  {
   "cell_type": "code",
   "execution_count": 1445,
   "metadata": {},
   "outputs": [
    {
     "name": "stdout",
     "output_type": "stream",
     "text": [
      "Tenías 2 de garbanzos\n"
     ]
    },
    {
     "data": {
      "text/plain": [
       "'Ahora tienes 21'"
      ]
     },
     "execution_count": 1445,
     "metadata": {},
     "output_type": "execute_result"
    }
   ],
   "source": [
    "Tienda_alimentos.actualizar_stock(\"garbanzos\", 19)"
   ]
  },
  {
   "cell_type": "code",
   "execution_count": 1446,
   "metadata": {},
   "outputs": [
    {
     "name": "stdout",
     "output_type": "stream",
     "text": [
      "Tenías 4 de pera\n"
     ]
    },
    {
     "data": {
      "text/plain": [
       "'Ahora tienes 7'"
      ]
     },
     "execution_count": 1446,
     "metadata": {},
     "output_type": "execute_result"
    }
   ],
   "source": [
    "Tienda_alimentos.actualizar_stock(\"pera\", 3)"
   ]
  },
  {
   "cell_type": "code",
   "execution_count": 1447,
   "metadata": {},
   "outputs": [
    {
     "name": "stdout",
     "output_type": "stream",
     "text": [
      "Nombre: pera, Precio: 1.5, Cantidad: 7\n",
      "Nombre: garbanzos, Precio: 3.0, Cantidad: 21\n",
      "Nombre: lentejas, Precio: 3.0, Cantidad: 4\n",
      "Nombre: alcachofa, Precio: 1.0, Cantidad: 8\n"
     ]
    }
   ],
   "source": [
    "Tienda_alimentos.ver_inventario()"
   ]
  },
  {
   "cell_type": "code",
   "execution_count": 1448,
   "metadata": {},
   "outputs": [
    {
     "data": {
      "text/plain": [
       "'El valor total del inventario son 93.5€'"
      ]
     },
     "execution_count": 1448,
     "metadata": {},
     "output_type": "execute_result"
    }
   ],
   "source": [
    "Tienda_alimentos.calcular_valor_inventario()"
   ]
  },
  {
   "cell_type": "code",
   "execution_count": 1449,
   "metadata": {},
   "outputs": [
    {
     "data": {
      "text/plain": [
       "[{'nombre': 'pera', 'precio': 1.5, 'cantidad': 7},\n",
       " {'nombre': 'garbanzos', 'precio': 3.0, 'cantidad': 21},\n",
       " {'nombre': 'lentejas', 'precio': 3.0, 'cantidad': 4},\n",
       " {'nombre': 'alcachofa', 'precio': 1.0, 'cantidad': 8}]"
      ]
     },
     "execution_count": 1449,
     "metadata": {},
     "output_type": "execute_result"
    }
   ],
   "source": [
    "Tienda_alimentos.inventario"
   ]
  },
  {
   "cell_type": "code",
   "execution_count": null,
   "metadata": {},
   "outputs": [],
   "source": []
  }
 ],
 "metadata": {
  "kernelspec": {
   "display_name": "base",
   "language": "python",
   "name": "python3"
  },
  "language_info": {
   "codemirror_mode": {
    "name": "ipython",
    "version": 3
   },
   "file_extension": ".py",
   "mimetype": "text/x-python",
   "name": "python",
   "nbconvert_exporter": "python",
   "pygments_lexer": "ipython3",
   "version": "3.12.7"
  }
 },
 "nbformat": 4,
 "nbformat_minor": 2
}
