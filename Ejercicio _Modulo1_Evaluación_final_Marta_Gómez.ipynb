{
 "cells": [
  {
   "cell_type": "markdown",
   "metadata": {},
   "source": [
    "# Ejercicio Modulo 1: Evaluación final - Marta Gómez"
   ]
  },
  {
   "cell_type": "code",
   "execution_count": null,
   "metadata": {},
   "outputs": [],
   "source": []
  },
  {
   "cell_type": "code",
   "execution_count": null,
   "metadata": {},
   "outputs": [],
   "source": [
    "class TiendaOnline:\n",
    "\n",
    "    #definicion de los atributos que va a tener la clase:\n",
    "\n",
    "    def __init__(self):\n",
    "        self.inventario = []  #quiero un inventario que pueda tener una lista de elementos, en este caso, los elementos serán diccionarios. [{},{}...]\n",
    "        self.clientes = {}    #quiero un diccionario de clientes donde el diccionario tenga un nombre : cliente1, cliente2... y cada cliente tenga un email(id) + una lista de compras {{'Cliente1': {'email': 'cliente1@email.com', 'compras': []}, 'Cliente2': {'email': 'cliente2@email.com', 'compras': []}}: }\n",
    "        self.ventas_totales = 0.0  #quiero un número con sus decimales, para saber el importe total ganado\n",
    "\n",
    "# GESTION DE INVENTARIO\n",
    "\n",
    "#1. \n",
    "\n",
    "    def agregar_producto(self,nombre,precio,cantidad):  #queremos agregar productos que estén compuestos por 'nombre(str), precio(int) y cantidad(int)'.\n",
    "        try:\n",
    "            nombre = str(nombre)\n",
    "            precio = float(precio)\n",
    "            cantidad = int(cantidad)\n",
    "        except:\n",
    "            return \"Los argumentos no son correctos. El nombre es texto, el precio y cantidad es número\"\n",
    "\n",
    "\n",
    "       \n",
    "        #necesitamos crear un diccionario donde se almacenará esa información.\n",
    "    \n",
    "\n",
    "        productos = {\"nombre\" : nombre, \"precio\" : precio, \"cantidad\" : cantidad}  # \"\"\"NO LE HE DICHO EL TIPO, PORQUE HE PROBADO str(nombre) y actúa igual\"\"\"\n",
    "\n",
    "        #ahora, necesitamos crear una función que haga las comprobaciones sobre producto y podrán pasar dos cosas:\n",
    "              \n",
    "        \"\"\"  1. SI YA EXISTE --> sumará al producto la cantidad\n",
    "            \n",
    "             2. SI NO EXISTE   --> agregará el producto\"\"\"\n",
    "        \n",
    "        for productos_inventario in self.inventario:  #para los productos en el inventario de self.inventario\n",
    "            if productos_inventario[\"nombre\"] == nombre:   #si el nombre del producto nuevo es  IGUAL al nombre de ALGUN producto que tenemos \n",
    "                productos_inventario[\"cantidad\"] += cantidad #QUE SUMAR la cantidad al producto del diccionario\n",
    "                productos_inventario[\"precio\"] = (productos_inventario[\"precio\"] + precio)/2 #los precios dividimelos entre dos para sacarme la media\n",
    "                                                \n",
    "                return f\"El producto {nombre} ha sido actualizado. La nueva cantidad es: {productos_inventario[\"cantidad\"]}.\"\n",
    "            \n",
    "            \n",
    "                 #OJO!! SI hay precios diferentes se queda con el primero... ¿COMO PUEDO HACER PARA QUE COMPRUEbe EL PRECIO; LO he MIRADO y LuegO o no lo agrega o me da error\n",
    "\n",
    "        self.inventario.append(productos) #SI NO EXISTE --> agrega el producto al diccionario y lo guarda, por eso no hace falta añadir otro return\n",
    "\n",
    "        print(f\"Producto {nombre} agregado correctamente\")\n",
    "\n",
    "\n",
    "#2.\n",
    "    \n",
    "    def ver_inventario(self):\n",
    "        \n",
    "           for productos_inventario in self.inventario: #para los productos en el inventario de \"self.inventario\"\n",
    "                print(f\"Nombre: {productos_inventario['nombre']}, Precio: {productos_inventario['precio']}, Cantidad: {productos_inventario['cantidad']}\") #muéstramelos, no se necesita return\n",
    "\n",
    "\n",
    "#3.\n",
    "\n",
    "    def buscar_producto(self, nombre):\n",
    "         \n",
    "         for producto in self.inventario: #para los productos de mi inventario\n",
    "              if producto[\"nombre\"] == nombre:  #Si el producto que estás buscando \"nombre\" SI está dentro de los productos que tengo\n",
    "                   print(producto) #pintame el dibujo\n",
    "                   return  #y no hagas nada más en el bucle y GUARDAMELO\n",
    "           \n",
    "         print(f\"{nombre} no está en el inventario\") #SI NO SE CUMPLE LA CONDICION DEL \"IF\" te hará esto\n",
    "                                                     \n",
    "\n",
    "\n",
    "\n",
    "\n",
    "#4. \n",
    "    def actualizar_stock(self,nombre,cantidad):\n",
    "         \n",
    "         for productos in self.inventario:  #para los productos de mi inventario\n",
    "            if productos[\"nombre\"] == nombre:   #si el nombre del producto nuevo es IGUAL al nombre de ALGUN producto que tenemos\n",
    "                print(f\"Tenías {productos[\"cantidad\"]} de {productos[\"nombre\"]}\") \n",
    "                productos[\"cantidad\"] += cantidad  #súmale esa cantidad (también puede ser negativa y restarle)\n",
    "                return f\"Ahora tienes {productos[\"cantidad\"]} de {productos[\"nombre\"]}\" #devuelveme el producto actualizado con la cantidad y GUARDAMELO\n",
    "            \n",
    "         print(f\"Este producto '{nombre}' no está en el inventario\") #SI NO SE CUMPLE LA CONDICION DEL \"IF\" te hará esto\n",
    "                                                                     \n",
    "        \n",
    "    \n",
    "#5. \n",
    "    def eliminar_producto(self,nombre):  #cada producto es una lista, por tanto, tengo que eliminar un elemento de la lista, que en este caso es un diccionario\n",
    "         for producto in self.inventario:\n",
    "              if producto[\"nombre\"] == nombre:\n",
    "                self.inventario.remove(producto) \n",
    "                print(f\"El producto '{nombre} eliminado del inventario\")\n",
    "                \n",
    "                print(f\"Ahora tienes estos {len(self.inventario)} productos: {self.inventario}\") \n",
    "                \n",
    "                #HE PROBADO producto[\"nombre\"] y sale lo mismo\n",
    "                 #cuente los productos que hay en la lista. Cuenta los diferentes diccionarios 1dicc = 1 prod\n",
    "                 #¿cómo hago para que me liste todos los nombres?\n",
    "            \n",
    "                return   #termino bucle\n",
    "                \n",
    "              \n",
    "         print(f\"Este {nombre} no está en el inventario\") #si no se cumple >> informo al ususario que no está\n",
    "              \n",
    "  \n",
    "#6.\n",
    "    def calcular_valor_inventario(self):\n",
    "\n",
    "        valor_total_inventario = 0 \n",
    "        \n",
    "          #queremos el valor total del inventario\n",
    "          # inventario = producto1 + producto2\n",
    "          # valor_producto = producto[\"precio\"] * producto[\"cantidad\"]\n",
    "          # valor_total_inventario = sum(valor_producto) >> como vamos a hacer un bucle le tenemos que decir que el producto que vaya encontrando lo sume\n",
    "\n",
    "        for producto in self.inventario:\n",
    "\n",
    "            valor_producto = 0\n",
    "            \n",
    "            valor_producto += producto[\"precio\"] * producto[\"cantidad\"]\n",
    "\n",
    "            valor_total_inventario += valor_producto\n",
    "             \n",
    "        return f\"El valor total del inventario son {valor_total_inventario}€\" \n",
    "        \n",
    "        \n",
    "#7. \n",
    "\n",
    "    def realizar_compra(self):\n",
    "\n",
    "        # Le enseñamos al cliente el inventario\n",
    "\n",
    "        print(self.ver_inventario())\n",
    "\n",
    "        \n",
    "\n",
    "        # Necesitamos el carrito vacio donde almacenamos esta información dentro del diccionario \"carrito\" que es la compra de nuestro cliente\n",
    "\n",
    "        # Lo ponemos fuera del bucle while porque queremos que se almacene la información, si no se reinicia en cada iteracción. Será una lista y sus elementos serán diccionarios\n",
    "                 \n",
    "        carrito = []\n",
    "\n",
    "        # otro de las cosas que necesitamos saber y que debemos poner fuera del bucle es el 'coste_carrito' que es el PRECIO FINAL de la compra y por ello,  necesitamos que vaya acumulanto\n",
    "\n",
    "                      \n",
    "        coste_carrito = 0\n",
    "\n",
    "        \n",
    "        # EMPEZAMOS EL BUCLE: \n",
    "        \n",
    "\n",
    "        while True: #mientras que no digas lo contrario --> EJECUTALO\n",
    "\n",
    "            #Una vez empezado el bucle, lo primero que necesitamos es preguntar al cliente por primera vez qué producto quiere comprar\n",
    "\n",
    "            compra_clienteProducto = input(\"¿qué producto te gustaría comprar?si no quieres nada escribe 'salir'\").lower().strip()\n",
    "\n",
    "            \n",
    "            #PRIMERO VERIFICO QUE NO ME HA DICHO QUE QUIERE SALIR. \n",
    "\n",
    "            if compra_clienteProducto == \"salir\":  #En el caso que el cliente dice \"salir\" --> le decimos el print y salimos del bucle. Además con el break ROMPEMOS todo lo demás.\n",
    "                \n",
    "                print(f\"De acuerdo, muchas gracias! El coste de tu carrito es de {coste_carrito}€\")\n",
    "                print(f\"¡Hasta pronto!\")\n",
    "                break\n",
    "\n",
    "\n",
    "            #SI la respuesta NO es salir:\n",
    "            \n",
    "            else:\n",
    "                \n",
    "                try: #Así cubrimos el caso que ponga un carácter o escriba (por ejemplo) 2... No se romperá el código si no que le daremos un mensaje\n",
    "                     \n",
    "                    compra_clienteCantidad = int(input(\"¿cuantos quieres\")) #le preguntaremos CUANTO quiere de ese producto, es decir la CANTIDAD\n",
    "\n",
    "                    \n",
    "\n",
    "\n",
    "                    #necesitaremos hacer algunas verificaciones de los productos del inventario: \n",
    "\n",
    "                    for producto in self.inventario:\n",
    "\n",
    "                        producto_encontrado = False #partimos que el producto encontrado es igual a FALSE, necesitamos ponerlo para que busque entre TODOS los productos\n",
    "    \n",
    "                    \n",
    "                    \n",
    "                        if compra_clienteProducto == producto[\"nombre\"].lower():  #Verificamos si el producto del cliente SI está en el inventario y por si acaso, lo ponemos todo en minúsculas\n",
    "\n",
    "                            \n",
    "                            producto_encontrado = True #si se da el caso anterior, entonces, el producto SI que habrá sido encontrado \n",
    "\n",
    "                            #verificamos que haya stock suficiente de lo que nos está pidicendo\n",
    "                            if compra_clienteCantidad <= producto[\"cantidad\"]:\n",
    "\n",
    "\n",
    "                                #1. CALCULAMOS EL COSTE DEL CARRITO: el precio del coste total será cantidad*precio + el coste que ya hubiera o haya\n",
    "                                coste_carrito += (compra_clienteCantidad * producto[\"precio\"])\n",
    "                                \n",
    "                                \n",
    "                                #2. CREACIÓN DEL DICC PRODUCTO CARRITO: Tendremos que tener en cuenta dos situaciones:\n",
    "\n",
    "                                # - El producto ya existe en el carrito\n",
    "                                # - El producto no exite en el carrito y POR TANTO lo tendremos que incluir. \n",
    "\n",
    "\n",
    "                                # 2.1 Buscamos si el producto está ya en el carrito para (1) añadirlo o (2) actualizar cantidad... partimos de que no está \n",
    "\n",
    "                                encontrado = False #partiremos de que es FALSE y solo será TRUE en el caso que se cumpla la condición que luego le damos en el IF \n",
    "    \n",
    "                                for productos_carrito in carrito:\n",
    "\n",
    "                                    # 2.2 vamos a darle la condición la cual nos pasará encontrado a TRUE\n",
    "                                    if productos_carrito[\"nombre\"] == compra_clienteProducto:\n",
    "                                        productos_carrito[\"cantidad\"] += compra_clienteCantidad\n",
    "                                        encontrado = True #si esta situación del IF se da --> entonces el producto está encontrado\n",
    "                                        break\n",
    "                                \n",
    "                                #2.3 Pero si no se cumple lo anterior, es decir SINO hemos encontrado el producto: \n",
    "                                if not encontrado: #esto sería lo mismo que if encontrado == FALSE\n",
    "                                    carrito.append({\"nombre\": compra_clienteProducto, \"cantidad\": compra_clienteCantidad}) #2.4 Me lo añades al carrito\n",
    "\n",
    "\n",
    "\n",
    "                                #3. ACTUALIZAMOS INVENTARIO y se lo comunicamos al usuario\n",
    "\n",
    "                                producto[\"cantidad\"] -= compra_clienteCantidad #ESTA FUCION también está bien.\n",
    "\n",
    "                                # Hasta aquí están las funciones hechas, y le queremos comunicar al usuario: \n",
    "                                        \n",
    "                                        # 1. Que el producto se ha añadido correctamente y el COSTE TOTAL del carrito\n",
    "                                        # 2. El carrito que tiene hasta ese momento ya que al ser bucle puede seguir comprando\n",
    "                                        # 3. El inventario actualizado\n",
    "                                \n",
    "                                print(f\"Producto añadido, el coste total actual de tu carrito es {coste_carrito}€\")\n",
    "                                print(f\"Este es tu carrito actual: {carrito}\")\n",
    "                                print(f\"El inventario se actualizado, este es nuestro stock {self.inventario}\")\n",
    "                                break\n",
    "\n",
    "                                \n",
    "\n",
    "\n",
    "\n",
    "                            # EN el caso que ya no haya STOCK:\n",
    "                                \n",
    "                            else:\n",
    "                                \n",
    "                                print(f\"Lo sentimos, no tenemos suficiente stock de {compra_clienteProducto}, actualmente solo tenemos {producto[\"cantidad\"]}\")\n",
    "                                break\n",
    "\n",
    "\n",
    "                        # Si el cliente nos pide algún producto que no está en INVENTARIO le diremos lo siguiente: \n",
    "                            \n",
    "                    if not producto_encontrado: \n",
    "\n",
    "                            print(f\"Lo sentimos, no disponemos de {compra_clienteProducto} en nuestro inventario\")\n",
    "\n",
    "                except:\n",
    "                    print(f\"El valor que tienes que indicar tiene que ser númerico, gracias!\")\n",
    "\n",
    "\n",
    "\n",
    "\n",
    "#8.\n",
    "\n",
    "def procesar_pago(self):\n",
    "\n",
    "    pago_cliente = int(input(f\"El coste total de tu compra ha sido {realizar_pago()}\", \"¿cuánto me vas a dar?\"))\n",
    "\n",
    "\n",
    "\n",
    "  \n",
    "\n",
    "\n"
   ]
  },
  {
   "cell_type": "code",
   "execution_count": 4190,
   "metadata": {},
   "outputs": [],
   "source": [
    "Tienda_alimentos = TiendaOnline()"
   ]
  },
  {
   "cell_type": "code",
   "execution_count": 4191,
   "metadata": {},
   "outputs": [],
   "source": [
    "Tienda_alimentos.ver_inventario()"
   ]
  },
  {
   "cell_type": "code",
   "execution_count": 4192,
   "metadata": {},
   "outputs": [
    {
     "name": "stdout",
     "output_type": "stream",
     "text": [
      "Producto pera agregado correctamente\n"
     ]
    }
   ],
   "source": [
    "Tienda_alimentos.agregar_producto(\"pera\", 4, 4)"
   ]
  },
  {
   "cell_type": "code",
   "execution_count": 4193,
   "metadata": {},
   "outputs": [
    {
     "name": "stdout",
     "output_type": "stream",
     "text": [
      "Nombre: pera, Precio: 4.0, Cantidad: 4\n"
     ]
    }
   ],
   "source": [
    "Tienda_alimentos.ver_inventario()"
   ]
  },
  {
   "cell_type": "code",
   "execution_count": 4194,
   "metadata": {},
   "outputs": [
    {
     "data": {
      "text/plain": [
       "'El producto pera ha sido actualizado. La nueva cantidad es: 6.'"
      ]
     },
     "execution_count": 4194,
     "metadata": {},
     "output_type": "execute_result"
    }
   ],
   "source": [
    "Tienda_alimentos.agregar_producto(\"pera\", 2, 2)"
   ]
  },
  {
   "cell_type": "code",
   "execution_count": 4195,
   "metadata": {},
   "outputs": [
    {
     "data": {
      "text/plain": [
       "[{'nombre': 'pera', 'precio': 3.0, 'cantidad': 6}]"
      ]
     },
     "execution_count": 4195,
     "metadata": {},
     "output_type": "execute_result"
    }
   ],
   "source": [
    "Tienda_alimentos.inventario\n"
   ]
  },
  {
   "cell_type": "code",
   "execution_count": 4196,
   "metadata": {},
   "outputs": [
    {
     "name": "stdout",
     "output_type": "stream",
     "text": [
      "Nombre: pera, Precio: 3.0, Cantidad: 6\n"
     ]
    }
   ],
   "source": [
    "Tienda_alimentos.ver_inventario()"
   ]
  },
  {
   "cell_type": "code",
   "execution_count": 4197,
   "metadata": {},
   "outputs": [
    {
     "name": "stdout",
     "output_type": "stream",
     "text": [
      "Producto lentejas agregado correctamente\n"
     ]
    }
   ],
   "source": [
    "Tienda_alimentos.agregar_producto(\"lentejas\", 3, 2)"
   ]
  },
  {
   "cell_type": "code",
   "execution_count": 4198,
   "metadata": {},
   "outputs": [
    {
     "name": "stdout",
     "output_type": "stream",
     "text": [
      "Nombre: pera, Precio: 3.0, Cantidad: 6\n",
      "Nombre: lentejas, Precio: 3.0, Cantidad: 2\n"
     ]
    }
   ],
   "source": [
    "Tienda_alimentos.ver_inventario()"
   ]
  },
  {
   "cell_type": "code",
   "execution_count": 4199,
   "metadata": {},
   "outputs": [
    {
     "data": {
      "text/plain": [
       "'El producto lentejas ha sido actualizado. La nueva cantidad es: 4.'"
      ]
     },
     "execution_count": 4199,
     "metadata": {},
     "output_type": "execute_result"
    }
   ],
   "source": [
    "Tienda_alimentos.agregar_producto(\"lentejas\", 2, 2) ##precios diferentes me gustaría hacer un precio medio "
   ]
  },
  {
   "cell_type": "code",
   "execution_count": 4200,
   "metadata": {},
   "outputs": [
    {
     "name": "stdout",
     "output_type": "stream",
     "text": [
      "Nombre: pera, Precio: 3.0, Cantidad: 6\n",
      "Nombre: lentejas, Precio: 2.5, Cantidad: 4\n"
     ]
    }
   ],
   "source": [
    "Tienda_alimentos.ver_inventario()"
   ]
  },
  {
   "cell_type": "code",
   "execution_count": 4201,
   "metadata": {},
   "outputs": [
    {
     "name": "stdout",
     "output_type": "stream",
     "text": [
      "{'nombre': 'lentejas', 'precio': 2.5, 'cantidad': 4}\n"
     ]
    }
   ],
   "source": [
    "Tienda_alimentos.buscar_producto(\"lentejas\")"
   ]
  },
  {
   "cell_type": "code",
   "execution_count": 4202,
   "metadata": {},
   "outputs": [
    {
     "name": "stdout",
     "output_type": "stream",
     "text": [
      "ciruelas no está en el inventario\n"
     ]
    }
   ],
   "source": [
    "Tienda_alimentos.buscar_producto(\"ciruelas\")"
   ]
  },
  {
   "cell_type": "code",
   "execution_count": 4203,
   "metadata": {},
   "outputs": [
    {
     "name": "stdout",
     "output_type": "stream",
     "text": [
      "Nombre: pera, Precio: 3.0, Cantidad: 6\n",
      "Nombre: lentejas, Precio: 2.5, Cantidad: 4\n"
     ]
    }
   ],
   "source": [
    "Tienda_alimentos.ver_inventario()"
   ]
  },
  {
   "cell_type": "code",
   "execution_count": 4204,
   "metadata": {},
   "outputs": [
    {
     "name": "stdout",
     "output_type": "stream",
     "text": [
      "Tenías 6 de pera\n"
     ]
    },
    {
     "data": {
      "text/plain": [
       "'Ahora tienes 7 de pera'"
      ]
     },
     "execution_count": 4204,
     "metadata": {},
     "output_type": "execute_result"
    }
   ],
   "source": [
    "Tienda_alimentos.actualizar_stock(\"pera\", 1)\n"
   ]
  },
  {
   "cell_type": "code",
   "execution_count": 4205,
   "metadata": {},
   "outputs": [
    {
     "name": "stdout",
     "output_type": "stream",
     "text": [
      "Este producto 'patatas' no está en el inventario\n"
     ]
    }
   ],
   "source": [
    "Tienda_alimentos.actualizar_stock(\"patatas\", -3)"
   ]
  },
  {
   "cell_type": "code",
   "execution_count": 4206,
   "metadata": {},
   "outputs": [
    {
     "name": "stdout",
     "output_type": "stream",
     "text": [
      "Nombre: pera, Precio: 3.0, Cantidad: 7\n",
      "Nombre: lentejas, Precio: 2.5, Cantidad: 4\n"
     ]
    }
   ],
   "source": [
    "Tienda_alimentos.ver_inventario()"
   ]
  },
  {
   "cell_type": "code",
   "execution_count": 4207,
   "metadata": {},
   "outputs": [
    {
     "name": "stdout",
     "output_type": "stream",
     "text": [
      "Producto canelones agregado correctamente\n"
     ]
    }
   ],
   "source": [
    "Tienda_alimentos.agregar_producto(\"canelones\", 2, 10)"
   ]
  },
  {
   "cell_type": "code",
   "execution_count": 4208,
   "metadata": {},
   "outputs": [
    {
     "data": {
      "text/plain": [
       "[{'nombre': 'pera', 'precio': 3.0, 'cantidad': 7},\n",
       " {'nombre': 'lentejas', 'precio': 2.5, 'cantidad': 4},\n",
       " {'nombre': 'canelones', 'precio': 2.0, 'cantidad': 10}]"
      ]
     },
     "execution_count": 4208,
     "metadata": {},
     "output_type": "execute_result"
    }
   ],
   "source": [
    "Tienda_alimentos.inventario"
   ]
  },
  {
   "cell_type": "code",
   "execution_count": 4209,
   "metadata": {},
   "outputs": [
    {
     "name": "stdout",
     "output_type": "stream",
     "text": [
      "El producto 'canelones eliminado del inventario\n",
      "Ahora tienes estos 2 productos: [{'nombre': 'pera', 'precio': 3.0, 'cantidad': 7}, {'nombre': 'lentejas', 'precio': 2.5, 'cantidad': 4}]\n"
     ]
    }
   ],
   "source": [
    "Tienda_alimentos.eliminar_producto(\"canelones\")"
   ]
  },
  {
   "cell_type": "code",
   "execution_count": 4210,
   "metadata": {},
   "outputs": [
    {
     "data": {
      "text/plain": [
       "[{'nombre': 'pera', 'precio': 3.0, 'cantidad': 7},\n",
       " {'nombre': 'lentejas', 'precio': 2.5, 'cantidad': 4}]"
      ]
     },
     "execution_count": 4210,
     "metadata": {},
     "output_type": "execute_result"
    }
   ],
   "source": [
    "Tienda_alimentos.inventario"
   ]
  },
  {
   "cell_type": "code",
   "execution_count": 4211,
   "metadata": {},
   "outputs": [
    {
     "data": {
      "text/plain": [
       "'El valor total del inventario son 31.0€'"
      ]
     },
     "execution_count": 4211,
     "metadata": {},
     "output_type": "execute_result"
    }
   ],
   "source": [
    "Tienda_alimentos.calcular_valor_inventario()"
   ]
  },
  {
   "cell_type": "code",
   "execution_count": 4212,
   "metadata": {},
   "outputs": [
    {
     "data": {
      "text/plain": [
       "[{'nombre': 'pera', 'precio': 3.0, 'cantidad': 7},\n",
       " {'nombre': 'lentejas', 'precio': 2.5, 'cantidad': 4}]"
      ]
     },
     "execution_count": 4212,
     "metadata": {},
     "output_type": "execute_result"
    }
   ],
   "source": [
    "Tienda_alimentos.inventario"
   ]
  },
  {
   "cell_type": "code",
   "execution_count": 4213,
   "metadata": {},
   "outputs": [
    {
     "data": {
      "text/plain": [
       "{}"
      ]
     },
     "execution_count": 4213,
     "metadata": {},
     "output_type": "execute_result"
    }
   ],
   "source": [
    "Tienda_alimentos.clientes  ## todavía no se ha añadido nada en clientes"
   ]
  },
  {
   "cell_type": "code",
   "execution_count": 4214,
   "metadata": {},
   "outputs": [
    {
     "name": "stdout",
     "output_type": "stream",
     "text": [
      "Producto alcachofa agregado correctamente\n"
     ]
    }
   ],
   "source": [
    "Tienda_alimentos.agregar_producto(\"alcachofa\", 1, 8)"
   ]
  },
  {
   "cell_type": "code",
   "execution_count": 4215,
   "metadata": {},
   "outputs": [
    {
     "name": "stdout",
     "output_type": "stream",
     "text": [
      "Este producto 'garbanzos' no está en el inventario\n"
     ]
    }
   ],
   "source": [
    "Tienda_alimentos.actualizar_stock(\"garbanzos\", 19)"
   ]
  },
  {
   "cell_type": "code",
   "execution_count": 4216,
   "metadata": {},
   "outputs": [
    {
     "name": "stdout",
     "output_type": "stream",
     "text": [
      "Tenías 7 de pera\n"
     ]
    },
    {
     "data": {
      "text/plain": [
       "'Ahora tienes 10 de pera'"
      ]
     },
     "execution_count": 4216,
     "metadata": {},
     "output_type": "execute_result"
    }
   ],
   "source": [
    "Tienda_alimentos.actualizar_stock(\"pera\", 3)"
   ]
  },
  {
   "cell_type": "code",
   "execution_count": 4217,
   "metadata": {},
   "outputs": [
    {
     "name": "stdout",
     "output_type": "stream",
     "text": [
      "Nombre: pera, Precio: 3.0, Cantidad: 10\n",
      "Nombre: lentejas, Precio: 2.5, Cantidad: 4\n",
      "Nombre: alcachofa, Precio: 1.0, Cantidad: 8\n"
     ]
    }
   ],
   "source": [
    "Tienda_alimentos.ver_inventario()"
   ]
  },
  {
   "cell_type": "code",
   "execution_count": 4218,
   "metadata": {},
   "outputs": [
    {
     "data": {
      "text/plain": [
       "'El valor total del inventario son 48.0€'"
      ]
     },
     "execution_count": 4218,
     "metadata": {},
     "output_type": "execute_result"
    }
   ],
   "source": [
    "Tienda_alimentos.calcular_valor_inventario()"
   ]
  },
  {
   "cell_type": "code",
   "execution_count": 4219,
   "metadata": {},
   "outputs": [
    {
     "data": {
      "text/plain": [
       "[{'nombre': 'pera', 'precio': 3.0, 'cantidad': 10},\n",
       " {'nombre': 'lentejas', 'precio': 2.5, 'cantidad': 4},\n",
       " {'nombre': 'alcachofa', 'precio': 1.0, 'cantidad': 8}]"
      ]
     },
     "execution_count": 4219,
     "metadata": {},
     "output_type": "execute_result"
    }
   ],
   "source": [
    "Tienda_alimentos.inventario"
   ]
  },
  {
   "cell_type": "code",
   "execution_count": 4220,
   "metadata": {},
   "outputs": [
    {
     "name": "stdout",
     "output_type": "stream",
     "text": [
      "Nombre: pera, Precio: 3.0, Cantidad: 10\n",
      "Nombre: lentejas, Precio: 2.5, Cantidad: 4\n",
      "Nombre: alcachofa, Precio: 1.0, Cantidad: 8\n",
      "None\n",
      "El valor que tienes que indicar tiene que ser númerico, gracias!\n",
      "Producto añadido, el coste total actual de tu carrito es 4.0€\n",
      "Este es tu carrito actual: [{'nombre': 'alcachofa', 'cantidad': 4}]\n",
      "El inventario se actualizado, este es nuestro stock [{'nombre': 'pera', 'precio': 3.0, 'cantidad': 10}, {'nombre': 'lentejas', 'precio': 2.5, 'cantidad': 4}, {'nombre': 'alcachofa', 'precio': 1.0, 'cantidad': 4}]\n",
      "Lo sentimos, no disponemos de 3 en nuestro inventario\n",
      "Producto añadido, el coste total actual de tu carrito es 22.0€\n",
      "Este es tu carrito actual: [{'nombre': 'alcachofa', 'cantidad': 4}, {'nombre': 'pera', 'cantidad': 6}]\n",
      "El inventario se actualizado, este es nuestro stock [{'nombre': 'pera', 'precio': 3.0, 'cantidad': 4}, {'nombre': 'lentejas', 'precio': 2.5, 'cantidad': 4}, {'nombre': 'alcachofa', 'precio': 1.0, 'cantidad': 4}]\n",
      "Lo sentimos, no tenemos suficiente stock de pera, actualmente solo tenemos 4\n",
      "De acuerdo, muchas gracias! El coste de tu carrito es de 22.0€\n",
      "¡Hasta pronto!\n"
     ]
    }
   ],
   "source": [
    "Tienda_alimentos.realizar_compra()"
   ]
  }
 ],
 "metadata": {
  "kernelspec": {
   "display_name": "base",
   "language": "python",
   "name": "python3"
  },
  "language_info": {
   "codemirror_mode": {
    "name": "ipython",
    "version": 3
   },
   "file_extension": ".py",
   "mimetype": "text/x-python",
   "name": "python",
   "nbconvert_exporter": "python",
   "pygments_lexer": "ipython3",
   "version": "3.12.7"
  }
 },
 "nbformat": 4,
 "nbformat_minor": 2
}
